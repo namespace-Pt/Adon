{
 "cells": [
  {
   "cell_type": "code",
   "execution_count": 1,
   "metadata": {},
   "outputs": [
    {
     "name": "stdout",
     "output_type": "stream",
     "text": [
      "[2023-08-18 02:58:54,609] [INFO] [real_accelerator.py:133:get_accelerator] Setting ds_accelerator to cuda (auto detect)\n"
     ]
    },
    {
     "name": "stderr",
     "output_type": "stream",
     "text": [
      "[2023-08-18 02:58:58,699] INFO (Config) setting seed to 42...\n",
      "[2023-08-18 02:58:58,711] INFO (Config) setting PLM to t5...\n",
      "[2023-08-18 02:58:58,954] INFO (Config) Config: {'adam_beta1': 0.9, 'adam_beta2': 0.999, 'adam_epsilon': 1e-08, 'batch_size': 2, 'bf16': False, 'cache_root': 'data/cache/NQ320k', 'data_format': 'memmap', 'data_root': '/share/peitian/Data/AutoTSG', 'dataset': 'NQ320k', 'debug': False, 'deepspeed': None, 'device': 0, 'distill_src': 'none', 'early_stop_patience': 5, 'enable_all_gather': True, 'enable_distill': False, 'enable_inbatch_negative': True, 'epoch': 20, 'eval_batch_size': 2, 'eval_delay': 0, 'eval_flops': False, 'eval_metric': ['mrr', 'recall'], 'eval_metric_cutoff': [1, 5, 10, 100, 1000], 'eval_mode': 'retrieve', 'eval_posting_length': False, 'eval_set': 'dev', 'eval_step': '1e', 'fp16': False, 'grad_accum_step': 1, 'hits': 1000, 'index_shard': 32, 'index_thread': 10, 'index_type': 'invvec', 'learning_rate': 3e-06, 'load_ckpt': None, 'load_encode': False, 'load_index': True, 'load_query_encode': False, 'load_result': False, 'load_text_encode': False, 'loader_train': 'neg', 'main_metric': 'Recall@10', 'max_grad_norm': 0, 'max_query_length': 64, 'max_step': 0, 'max_text_length': 512, 'mode': 'train', 'model_type': None, 'neg_type': 'random', 'nneg': 1, 'num_worker': 0, 'parallel': 'text', 'plm': 't5', 'plm_dir': '/share/peitian/Data/AutoTSG/PLM/t5', 'plm_root': '/share/peitian/Data/AutoTSG/PLM', 'plm_tokenizer': 't5', 'posting_prune': 0.0, 'query_gate_k': 0, 'query_length': 32, 'report_to': 'none', 'return_first_mask': False, 'return_special_mask': False, 'save_at_eval': False, 'save_ckpt': 'best', 'save_encode': False, 'save_index': True, 'save_model': False, 'save_res': 'retrieval_result', 'save_score': False, 'scheduler': 'constant', 'seed': 42, 'special_token_ids': {'cls': (None, None), 'pad': ('<pad>', 0), 'unk': ('<unk>', 2), 'sep': (None, None), 'eos': ('</s>', 1)}, 'text_col': [1, 2, 3], 'text_col_sep': ' ', 'text_gate_k': 0, 'text_length': 512, 'text_type': 'default', 'train_set': ['train'], 'untie_encoder': False, 'verifier_hits': 1000, 'verifier_index': 'none', 'verifier_src': 'none', 'verifier_type': 'none', 'vocab_size': 32100, 'warmup_ratio': 0.1, 'warmup_step': 0, 'weight_decay': 0.01}\n",
      "[2023-08-18 02:58:58,995] INFO (Dataset) initializing NQ320k memmap Text dataset...\n",
      "[2023-08-18 02:58:59,038] INFO (Dataset) initializing NQ320k memmap Query dev dataset...\n"
     ]
    }
   ],
   "source": [
    "import os\n",
    "import sys\n",
    "if sys.path[-1] != \"../\":\n",
    "    sys.path.append(\"../\")\n",
    "    os.chdir(\"../\")\n",
    "\n",
    "import numpy as np\n",
    "import pandas as pd\n",
    "from IPython.display import display\n",
    "from random import sample\n",
    "from transformers import AutoModel, AutoTokenizer\n",
    "\n",
    "import torch\n",
    "from utils.util import *\n",
    "from utils.index import *\n",
    "from utils.data import *\n",
    "\n",
    "from hydra import initialize, compose\n",
    "\n",
    "config = Config()\n",
    "with initialize(version_base=None, config_path=\"../data/config/\"):\n",
    "    overrides = [\n",
    "        \"base=NQ320k\",\n",
    "        # \"base=MS300k\",\n",
    "        # \"++plm=t5\",\n",
    "    ]\n",
    "    hydra_config = compose(config_name=\"_example\", overrides=overrides)\n",
    "    config._from_hydra(hydra_config)\n",
    "\n",
    "loaders = prepare_data(config)\n",
    "\n",
    "loader_text = loaders[\"text\"]\n",
    "loader_query = loaders[\"query\"]\n",
    "text_dataset = loader_text.dataset\n",
    "query_dataset = loader_query.dataset\n",
    "\n",
    "# tokenizer = AutoTokenizer.from_pretrained(os.path.join(config.plm_root, config.plm_tokenizer))"
   ]
  },
  {
   "cell_type": "code",
   "execution_count": 2,
   "metadata": {},
   "outputs": [],
   "source": [
    "# load terms\n",
    "# code_type = \"words_title_comma_plus_stem\"\n",
    "code_type = \"words_comma_plus_stem\"\n",
    "code_tokenizer = \"t5\"\n",
    "# for NQ320k\n",
    "code_length = 26\n",
    "# for MS300k\n",
    "# code_length = 34\n",
    "# code_length = 42\n",
    "# code_length = 66\n",
    "\n",
    "tokenizer = AutoTokenizer.from_pretrained(os.path.join(config.plm_root, code_tokenizer))\n",
    "\n",
    "text_codes = np.memmap(\n",
    "    f\"data/cache/{config.dataset}/codes/{code_type}/{code_tokenizer}/{code_length}/codes.mmp\",\n",
    "    mode=\"r\",\n",
    "    dtype=np.int32\n",
    ").reshape(len(text_dataset), -1).copy()"
   ]
  },
  {
   "cell_type": "code",
   "execution_count": 24,
   "metadata": {},
   "outputs": [],
   "source": [
    "new_codes = np.memmap(\n",
    "    \"codes.mmp\",\n",
    "    mode=\"w+\",\n",
    "    dtype=np.int32,\n",
    "    shape=text_codes.shape\n",
    ")"
   ]
  },
  {
   "cell_type": "code",
   "execution_count": 12,
   "metadata": {},
   "outputs": [
    {
     "data": {
      "text/plain": [
       "(array([1, 2, 3]), array([3, 2]))"
      ]
     },
     "execution_count": 12,
     "metadata": {},
     "output_type": "execute_result"
    }
   ],
   "source": [
    "a = np.array([1,2,3])\n",
    "b = a[1:].copy()\n",
    "np.random.shuffle(b)\n",
    "a, b"
   ]
  },
  {
   "cell_type": "code",
   "execution_count": 30,
   "metadata": {},
   "outputs": [],
   "source": [
    "start_shuffle_pos = 0\n",
    "\n",
    "for i, code in enumerate(text_codes):\n",
    "    code = code[code != -1]\n",
    "    random_code = code[1:-1].copy()\n",
    "    random_words = []\n",
    "    word = []\n",
    "    for c in random_code:\n",
    "        word.append(c.tolist())\n",
    "        if c == 6:\n",
    "            random_words.append(word.copy())\n",
    "            word.clear()\n",
    "    random.shuffle(random_words[start_shuffle_pos:])\n",
    "    random_code = code[:1].tolist() + sum(random_words, []) + code[-1:].tolist()\n",
    "    if len(random_code) < text_codes.shape[-1]:\n",
    "        random_code += [-1 for _ in range(text_codes.shape[-1] - len(random_code))]\n",
    "\n",
    "    random_code = np.array(random_code, dtype=code.dtype)\n",
    "    new_codes[i] = random_code"
   ]
  },
  {
   "cell_type": "code",
   "execution_count": 31,
   "metadata": {},
   "outputs": [
    {
     "data": {
      "text/plain": [
       "(array([[    0,   791,     6,  4842,     6,  1070,     6,  1622,     6,\n",
       "          4175,     6,   884,     6,  5657,     6,  7387,     6,  1730,\n",
       "             6,  3882,     6,   367,     6, 11947,     6,     1],\n",
       "        [    0,  2039,     6,     3,  1054,     6, 18598,     6,  1736,\n",
       "             6,   942,     6,     3,  6471,    63,     6,     3,    51,\n",
       "            75,  1018, 10361,     6,  3912,     6,     1,    -1],\n",
       "        [    0,     3,  4339,    51,     6, 20617,   257,     6,     3,\n",
       "          4339,  3357, 20260,   106,     6, 11614,    32,     6,     3,\n",
       "          4339,  3357, 20260,     9,     6,  6182,     6,     1],\n",
       "        [    0, 20134,     6,     3,    29,    89,    40,     6,  9204,\n",
       "             6,  1415,     6,  3858,    26,    63,     6,  3370,     6,\n",
       "           158, 21220,     6,     3,  2434,    53,     6,     1],\n",
       "        [    0,     3,    52,    32,   152,  1825,    15,     6,  6718,\n",
       "            63,     6,  1513,     6, 19803,     6,   649,    15,     6,\n",
       "             3,    52,     9, 23260,     6,  2127,     6,     1],\n",
       "        [    0, 24040,     6, 24040,    29,     6,  6266,     6,   874,\n",
       "             6,   769, 18145,     7,     6,  4653,     6,  3457,     6,\n",
       "          1296,     6,  3414,     6, 10829,     6,     1,    -1],\n",
       "        [    0,   388,    17,   159,     6,  4879,  7137,     6, 15676,\n",
       "             6, 20609,     6, 24856,     6,  2141,     6,    16, 16925,\n",
       "             6,  8093,    49,     6,  2085,   924,     6,     1],\n",
       "        [    0,  2515,  3481,    63,     6,    20,    75, 18247,     6,\n",
       "             3,   547,     6, 23997,     6, 13297,     6,  2983,   348,\n",
       "             6,   280,     6, 17185,     6,   534,     6,     1],\n",
       "        [    0,     3,     9,   658,  8603,     7,     6,     3,     9,\n",
       "            75, 17327,     6, 20609,     6,  6718,    23,   138,     6,\n",
       "             3,     9,   658,    26,  8065,     6,     1,    -1],\n",
       "        [    0,  5028,     6, 12231,     6,  7808,  6636,     6,   443,\n",
       "         12057,     9,     6,     3,    52,    32,   152,  1825,    15,\n",
       "             6, 12098,     6,     3,   210,  3535,     6,     1]],\n",
       "       dtype=int32),\n",
       " memmap([[    0,   791,     6,  4842,     6,  1070,     6,  1622,     6,\n",
       "           4175,     6,   884,     6,  5657,     6,  7387,     6,  1730,\n",
       "              6,  3882,     6,   367,     6, 11947,     6,     1],\n",
       "         [    0,  2039,     6,     3,  1054,     6, 18598,     6,  1736,\n",
       "              6,   942,     6,     3,  6471,    63,     6,     3,    51,\n",
       "             75,  1018, 10361,     6,  3912,     6,     1,    -1],\n",
       "         [    0,     3,  4339,    51,     6, 20617,   257,     6,     3,\n",
       "           4339,  3357, 20260,   106,     6, 11614,    32,     6,     3,\n",
       "           4339,  3357, 20260,     9,     6,  6182,     6,     1],\n",
       "         [    0, 20134,     6,     3,    29,    89,    40,     6,  9204,\n",
       "              6,  1415,     6,  3858,    26,    63,     6,  3370,     6,\n",
       "            158, 21220,     6,     3,  2434,    53,     6,     1],\n",
       "         [    0,     3,    52,    32,   152,  1825,    15,     6,  6718,\n",
       "             63,     6,  1513,     6, 19803,     6,   649,    15,     6,\n",
       "              3,    52,     9, 23260,     6,  2127,     6,     1],\n",
       "         [    0, 24040,     6, 24040,    29,     6,  6266,     6,   874,\n",
       "              6,   769, 18145,     7,     6,  4653,     6,  3457,     6,\n",
       "           1296,     6,  3414,     6, 10829,     6,     1,    -1],\n",
       "         [    0,   388,    17,   159,     6,  4879,  7137,     6, 15676,\n",
       "              6, 20609,     6, 24856,     6,  2141,     6,    16, 16925,\n",
       "              6,  8093,    49,     6,  2085,   924,     6,     1],\n",
       "         [    0,  2515,  3481,    63,     6,    20,    75, 18247,     6,\n",
       "              3,   547,     6, 23997,     6, 13297,     6,  2983,   348,\n",
       "              6,   280,     6, 17185,     6,   534,     6,     1],\n",
       "         [    0,     3,     9,   658,  8603,     7,     6,     3,     9,\n",
       "             75, 17327,     6, 20609,     6,  6718,    23,   138,     6,\n",
       "              3,     9,   658,    26,  8065,     6,     1,    -1],\n",
       "         [    0,  5028,     6, 12231,     6,  7808,  6636,     6,   443,\n",
       "          12057,     9,     6,     3,    52,    32,   152,  1825,    15,\n",
       "              6, 12098,     6,     3,   210,  3535,     6,     1]],\n",
       "        dtype=int32))"
      ]
     },
     "execution_count": 31,
     "metadata": {},
     "output_type": "execute_result"
    }
   ],
   "source": [
    "text_codes[:10], new_codes[:10]"
   ]
  },
  {
   "cell_type": "code",
   "execution_count": null,
   "metadata": {},
   "outputs": [],
   "source": [
    "indices = range(10)\n",
    "text_code = text_codes[indices]\n",
    "text_code[text_code == -1] = 0\n",
    "display(tokenizer.batch_decode(text_code))\n",
    "display(tokenizer.batch_decode(np.array(text_dataset[indices][\"text\"][\"input_ids\"])[:, :100]))"
   ]
  },
  {
   "cell_type": "code",
   "execution_count": null,
   "metadata": {},
   "outputs": [],
   "source": [
    "# trie = TrieIndex(save_dir=f\"data/cache/{config.dataset}/codes/{code_type}/{code_tokenizer}/{code_length}\")\n",
    "# trie.load()\n",
    "\n",
    "# wordset = WordSetIndex(save_dir=f\"data/cache/{config.dataset}/codes/{code_type}/{code_tokenizer}/{code_length}\", sep_token_id=6)\n",
    "# wordset.fit(None)\n",
    "\n",
    "# text_codes = np.sort(text_codes, axis=-1)\n",
    "df = pd.DataFrame(text_codes)\n",
    "duplicates = df.groupby(df.columns.tolist(),as_index=False).size()\n",
    "duplicates = duplicates.sort_values(\"size\", ascending=False)\n",
    "duplicates.reset_index(drop=True, inplace=True)\n",
    "\n",
    "dup = df.duplicated(keep=\"first\").to_numpy()\n",
    "dup_indices = np.argwhere(dup)[:, 0]\n",
    "len(dup_indices), duplicates[\"size\"][duplicates[\"size\"] > 1].sum()"
   ]
  },
  {
   "cell_type": "code",
   "execution_count": null,
   "metadata": {},
   "outputs": [],
   "source": [
    "train_positives = load_pickle(\"/share/peitian/Code/Adon/src/data/cache/MSMARCO-passage/dataset/query/train/positives.pkl\")\n",
    "dev_positives = load_pickle(\"/share/peitian/Code/Adon/src/data/cache/MSMARCO-passage/dataset/query/dev/positives.pkl\")\n",
    "\n",
    "all_positives = defaultdict(list)\n",
    "for k, v in train_positives.items():\n",
    "    all_positives[v[0]].append(k)\n",
    "for k, v in dev_positives.items():\n",
    "    all_positives[v[0]].append(k)\n",
    "\n",
    "train_docs = set([x[0] for x in train_positives.values()])\n",
    "dev_docs = set([x[0] for x in dev_positives.values()])"
   ]
  },
  {
   "cell_type": "code",
   "execution_count": null,
   "metadata": {},
   "outputs": [],
   "source": [
    "idx = 1\n",
    "most_dup_idx = np.argwhere((text_codes == duplicates.iloc[idx].to_numpy()[:-1]).all(-1))[:, 0]\n",
    "most_dup_code = text_codes[most_dup_idx]\n",
    "most_dup_code[most_dup_code == -1] = 0\n",
    "most_dup_text = np.array(text_dataset[most_dup_idx][\"text\"][\"input_ids\"])#[:, :code_length + 5]\n",
    "tokenizer.batch_decode(most_dup_code), tokenizer.batch_decode(most_dup_text)"
   ]
  },
  {
   "cell_type": "code",
   "execution_count": null,
   "metadata": {},
   "outputs": [],
   "source": [
    "train_query_dataset = QueryDataset(config, \"train\")\n",
    "qidx = 337798\n",
    "tidx = train_positives[qidx][0]\n",
    "tokenizer.decode(text_dataset[tidx][\"text\"][\"input_ids\"]), tokenizer.decode(train_query_dataset[qidx][\"query\"][\"input_ids\"])"
   ]
  },
  {
   "cell_type": "code",
   "execution_count": null,
   "metadata": {},
   "outputs": [],
   "source": [
    "positives = load_pickle(\"/share/peitian/Code/Adon/src/data/cache/MSMARCO-passage/dataset/query/dev/positives.pkl\")\n",
    "pos_docs = [v[0] for v in positives.values()]\n",
    "dup_docs = np.argwhere(dup[pos_docs]==True).squeeze()\n",
    "len(dup_docs)"
   ]
  },
  {
   "cell_type": "code",
   "execution_count": 2,
   "metadata": {},
   "outputs": [
    {
     "name": "stdout",
     "output_type": "stream",
     "text": [
      "number of documents missing in training set: 8353661\n"
     ]
    }
   ],
   "source": [
    "# create new query set based on an existing one\n",
    "\n",
    "dataset = \"MSMARCO-passage\"\n",
    "ori_query_set = \"doct5\"\n",
    "query_set = \"doct5-1\"\n",
    "\n",
    "try:\n",
    "    qid2idx = load_pickle(f\"data/cache/{dataset}/dataset/query/{ori_query_set}/id2index.pkl\")\n",
    "except FileNotFoundError:\n",
    "    qid2idx = {}\n",
    "    with open(f\"{config.data_root}/{dataset}/queries.{ori_query_set}.tsv\") as f:\n",
    "        for qidx, line in enumerate(tqdm(f, desc=\"Collecting qid2idx\")):\n",
    "            qid = line.split(\"\\t\")[0]\n",
    "            qid2idx[qid] = qidx\n",
    "            \n",
    "tid2idx = load_pickle(f\"data/cache/{dataset}/dataset/text/id2index.pkl\")\n",
    "\n",
    "qindices = []\n",
    "tid2qrels = defaultdict(list)\n",
    "k = 1\n",
    "\n",
    "train_positives = load_pickle(f\"data/cache/{dataset}/dataset/query/train/positives.pkl\")\n",
    "train_positives = set([x[0] for x in train_positives.values()])\n",
    "miss_docs = set(range(len(text_dataset))) - train_positives\n",
    "print(f\"number of documents missing in training set: {len(miss_docs)}\")\n",
    "\n",
    "with open(f\"{config.data_root}/{dataset}/qrels.{ori_query_set}.tsv\") as ori_qrel_file, open(f\"{config.data_root}/{dataset}/qrels.{query_set}.tsv\", \"w\") as qrel_file, open(f\"{config.data_root}/{dataset}/queries.{ori_query_set}.tsv\") as ori_query_file, open(f\"{config.data_root}/{dataset}/queries.{query_set}.tsv\", \"w\") as query_file:\n",
    "    for i, line in enumerate(ori_qrel_file):\n",
    "        qid, _, tid, _ = line.strip().split(\"\\t\")\n",
    "        qidx = qid2idx[qid]\n",
    "\n",
    "        # filter out the existing ones\n",
    "        # tidx = tid2idx[tid]\n",
    "        # if tidx in miss_docs:\n",
    "        #     tid2qrels[tid].append(line)\n",
    "        #     qindices.append(qidx)\n",
    "\n",
    "        # keep the first k elements\n",
    "        if len(tid2qrels[tid]) >= k:\n",
    "            continue\n",
    "        else:\n",
    "            tid2qrels[tid].append(line)\n",
    "            qindices.append(qidx)\n",
    "\n",
    "    qindices = set(qindices)\n",
    "    for i, line in enumerate(ori_query_file):\n",
    "        if i in qindices:\n",
    "            query_file.write(line)\n",
    "\n",
    "    for qrels in tid2qrels.values():\n",
    "        for line in qrels:\n",
    "            qrel_file.write(line)"
   ]
  },
  {
   "cell_type": "code",
   "execution_count": null,
   "metadata": {},
   "outputs": [],
   "source": [
    "from transformers import AutoModel, AutoTokenizer\n",
    "\n",
    "# model_name_or_path = \"facebook/contriever-msmarco\"\n",
    "model_name_or_path = \"sentence-transformers/gtr-t5-base\"\n",
    "\n",
    "model = AutoModel.from_pretrained(model_name_or_path, cache_dir=\"/share/LMs\", local_files_only=True)\n",
    "tokenizer = AutoTokenizer.from_pretrained(model_name_or_path, cache_dir=\"/share/LMs\", local_files_only=True)\n",
    "\n",
    "# save_path = \"/share/peitian/Data/AutoTSG/PLM/contriever\"\n",
    "save_path = \"/share/peitian/Data/AutoTSG/PLM/gtr\"\n",
    "model.save_pretrained(save_path)\n",
    "tokenizer.save_pretrained(save_path)"
   ]
  }
 ],
 "metadata": {
  "kernelspec": {
   "display_name": "Python 3.9.12",
   "language": "python",
   "name": "python3"
  },
  "language_info": {
   "codemirror_mode": {
    "name": "ipython",
    "version": 3
   },
   "file_extension": ".py",
   "mimetype": "text/x-python",
   "name": "python",
   "nbconvert_exporter": "python",
   "pygments_lexer": "ipython3",
   "version": "3.9.12"
  },
  "orig_nbformat": 4,
  "vscode": {
   "interpreter": {
    "hash": "778a5a6b0df35a46498564cf16af2e5ec016022ef7dc9d5934de67fcb1f6bfb9"
   }
  }
 },
 "nbformat": 4,
 "nbformat_minor": 2
}
