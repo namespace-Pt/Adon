{
 "cells": [
  {
   "cell_type": "code",
   "execution_count": null,
   "metadata": {},
   "outputs": [],
   "source": [
    "import os\n",
    "import sys\n",
    "if sys.path[-1] != \"../\":\n",
    "    sys.path.append(\"../\")\n",
    "    os.chdir(\"../\")\n",
    "\n",
    "import re\n",
    "import json\n",
    "import faiss\n",
    "import numpy as np\n",
    "import pandas as pd\n",
    "from random import sample\n",
    "from collections import defaultdict\n",
    "from transformers import AutoModel, AutoTokenizer\n",
    "\n",
    "import torch\n",
    "import torch.nn as nn\n",
    "import torch.nn.functional as F\n",
    "from utils.manager import Manager\n",
    "from utils.util import *\n",
    "from utils.index import *\n",
    "from utils.dataset import *\n",
    "\n",
    "from hydra import initialize, compose\n",
    "from omegaconf import OmegaConf\n",
    "\n",
    "manager = Manager()\n",
    "with initialize(version_base=None, config_path=\"../data/config/\"):\n",
    "    overrides = [\n",
    "    ]\n",
    "    cfg = compose(config_name=\"_example\", overrides=overrides)\n",
    "    manager.setup(cfg)\n",
    "\n",
    "config=manager.config\n",
    "\n",
    "loaders = manager.prepare()\n",
    "loader_text = loaders[\"text\"]\n",
    "loader_query = loaders[\"query\"]\n",
    "# loader_rerank = loaders[\"rerank\"]\n",
    "loader_train = manager.prepare_train_data(return_dataloader=True)\n",
    "\n",
    "dataset_text = loader_text.dataset\n",
    "dataset_query = loader_query.dataset\n",
    "dataset_train = loader_train.dataset\n",
    "\n",
    "X1 = iter(loader_train)\n",
    "X2 = iter(loader_text)\n",
    "X3 = iter(loader_query)\n",
    "# X4 = iter(loader_rerank)\n",
    "\n",
    "x = next(X1)\n",
    "x2 = next(X2)\n",
    "x3 = next(X3)\n",
    "# x4 = next(X4)"
   ]
  },
  {
   "cell_type": "code",
   "execution_count": null,
   "metadata": {},
   "outputs": [],
   "source": [
    "t = AutoTokenizer.from_pretrained(config.plm_dir)\n",
    "m = AutoModel.from_pretrained(\"/share/project/peitian/Data/huggingface-PLMs/ar2/NQ-open/text\")"
   ]
  },
  {
   "cell_type": "code",
   "execution_count": null,
   "metadata": {},
   "outputs": [],
   "source": [
    "m(x2[\"pos_seq_token_id\"], x2[\"pos_seq_attn_mask\"])"
   ]
  },
  {
   "cell_type": "code",
   "execution_count": null,
   "metadata": {},
   "outputs": [],
   "source": []
  }
 ],
 "metadata": {
  "kernelspec": {
   "display_name": "Python 3.9.12",
   "language": "python",
   "name": "python3"
  },
  "language_info": {
   "codemirror_mode": {
    "name": "ipython",
    "version": 3
   },
   "file_extension": ".py",
   "mimetype": "text/x-python",
   "name": "python",
   "nbconvert_exporter": "python",
   "pygments_lexer": "ipython3",
   "version": "3.9.12"
  },
  "orig_nbformat": 4,
  "vscode": {
   "interpreter": {
    "hash": "778a5a6b0df35a46498564cf16af2e5ec016022ef7dc9d5934de67fcb1f6bfb9"
   }
  }
 },
 "nbformat": 4,
 "nbformat_minor": 2
}
